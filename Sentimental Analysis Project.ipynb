{
 "cells": [
  {
   "cell_type": "markdown",
   "id": "ae2d5751",
   "metadata": {},
   "source": [
    "# ML Project : Sentiment Analysis in E-commerce Reviews"
   ]
  },
  {
   "cell_type": "code",
   "execution_count": 2,
   "id": "5e8ae4d5-cefc-4ae9-ae88-6bccb4db1930",
   "metadata": {},
   "outputs": [
    {
     "name": "stderr",
     "output_type": "stream",
     "text": [
      "d:\\Anjitha_Learning\\Higher Studies\\PGD\\Git repo\\ML-Project\\.venv\\Lib\\site-packages\\tqdm\\auto.py:21: TqdmWarning: IProgress not found. Please update jupyter and ipywidgets. See https://ipywidgets.readthedocs.io/en/stable/user_install.html\n",
      "  from .autonotebook import tqdm as notebook_tqdm\n"
     ]
    },
    {
     "name": "stdout",
     "output_type": "stream",
     "text": [
      "WARNING:tensorflow:From d:\\Anjitha_Learning\\Higher Studies\\PGD\\Git repo\\ML-Project\\.venv\\Lib\\site-packages\\tf_keras\\src\\losses.py:2976: The name tf.losses.sparse_softmax_cross_entropy is deprecated. Please use tf.compat.v1.losses.sparse_softmax_cross_entropy instead.\n",
      "\n"
     ]
    },
    {
     "name": "stderr",
     "output_type": "stream",
     "text": [
      "[nltk_data] Downloading package stopwords to\n",
      "[nltk_data]     C:\\Users\\AnjithaRAVIKUMAR\\AppData\\Roaming\\nltk_data...\n",
      "[nltk_data]   Package stopwords is already up-to-date!\n"
     ]
    }
   ],
   "source": [
    "import pandas as pd\n",
    "import numpy as np\n",
    "import nltk\n",
    "import re\n",
    "import string\n",
    "from sklearn.model_selection import train_test_split\n",
    "from sklearn.feature_extraction.text import TfidfVectorizer\n",
    "from sklearn.naive_bayes import MultinomialNB\n",
    "from sklearn.svm import LinearSVC\n",
    "from sklearn.metrics import accuracy_score\n",
    "from tensorflow.keras.preprocessing.text import Tokenizer\n",
    "from tensorflow.keras.preprocessing.sequence import pad_sequences\n",
    "from tensorflow.keras.models import Sequential\n",
    "from tensorflow.keras.layers import LSTM, Embedding, Dense\n",
    "from transformers import BertTokenizer, TFBertForSequenceClassification\n",
    "import tensorflow as tf\n",
    "from transformers import TFBertModel\n",
    "import matplotlib.pyplot as plt\n",
    "import seaborn as sns\n",
    "from sklearn.metrics import confusion_matrix, classification_report\n",
    "\n",
    "\n",
    "nltk.download('stopwords')\n",
    "from nltk.corpus import stopwords\n",
    "stop_words = set(stopwords.words('english'))"
   ]
  },
  {
   "cell_type": "markdown",
   "id": "a5b503b9",
   "metadata": {},
   "source": [
    "### Load Data"
   ]
  },
  {
   "cell_type": "code",
   "execution_count": 17,
   "id": "1d78afe1-4ecd-4214-b503-eb97da37d193",
   "metadata": {},
   "outputs": [
    {
     "data": {
      "text/html": [
       "<div>\n",
       "<style scoped>\n",
       "    .dataframe tbody tr th:only-of-type {\n",
       "        vertical-align: middle;\n",
       "    }\n",
       "\n",
       "    .dataframe tbody tr th {\n",
       "        vertical-align: top;\n",
       "    }\n",
       "\n",
       "    .dataframe thead th {\n",
       "        text-align: right;\n",
       "    }\n",
       "</style>\n",
       "<table border=\"1\" class=\"dataframe\">\n",
       "  <thead>\n",
       "    <tr style=\"text-align: right;\">\n",
       "      <th></th>\n",
       "      <th>review</th>\n",
       "      <th>sentiment</th>\n",
       "    </tr>\n",
       "  </thead>\n",
       "  <tbody>\n",
       "    <tr>\n",
       "      <th>0</th>\n",
       "      <td>The product quality is excellent and delivery ...</td>\n",
       "      <td>1</td>\n",
       "    </tr>\n",
       "    <tr>\n",
       "      <th>1</th>\n",
       "      <td>I am very disappointed with the purchase</td>\n",
       "      <td>0</td>\n",
       "    </tr>\n",
       "    <tr>\n",
       "      <th>2</th>\n",
       "      <td>Amazing service and user-friendly website</td>\n",
       "      <td>1</td>\n",
       "    </tr>\n",
       "    <tr>\n",
       "      <th>3</th>\n",
       "      <td>This is the worst item I have ever bought</td>\n",
       "      <td>0</td>\n",
       "    </tr>\n",
       "    <tr>\n",
       "      <th>4</th>\n",
       "      <td>I love this product, totally worth the money</td>\n",
       "      <td>1</td>\n",
       "    </tr>\n",
       "    <tr>\n",
       "      <th>5</th>\n",
       "      <td>Not satisfied with the service, won’t buy again</td>\n",
       "      <td>0</td>\n",
       "    </tr>\n",
       "    <tr>\n",
       "      <th>6</th>\n",
       "      <td>Great value for the price, will recommend to f...</td>\n",
       "      <td>1</td>\n",
       "    </tr>\n",
       "    <tr>\n",
       "      <th>7</th>\n",
       "      <td>Terrible quality and bad customer support</td>\n",
       "      <td>0</td>\n",
       "    </tr>\n",
       "    <tr>\n",
       "      <th>8</th>\n",
       "      <td>Very happy with the packaging and speed of del...</td>\n",
       "      <td>1</td>\n",
       "    </tr>\n",
       "    <tr>\n",
       "      <th>9</th>\n",
       "      <td>Bad experience, received a damaged product</td>\n",
       "      <td>0</td>\n",
       "    </tr>\n",
       "  </tbody>\n",
       "</table>\n",
       "</div>"
      ],
      "text/plain": [
       "                                              review  sentiment\n",
       "0  The product quality is excellent and delivery ...          1\n",
       "1           I am very disappointed with the purchase          0\n",
       "2          Amazing service and user-friendly website          1\n",
       "3          This is the worst item I have ever bought          0\n",
       "4       I love this product, totally worth the money          1\n",
       "5    Not satisfied with the service, won’t buy again          0\n",
       "6  Great value for the price, will recommend to f...          1\n",
       "7          Terrible quality and bad customer support          0\n",
       "8  Very happy with the packaging and speed of del...          1\n",
       "9         Bad experience, received a damaged product          0"
      ]
     },
     "execution_count": 17,
     "metadata": {},
     "output_type": "execute_result"
    }
   ],
   "source": [
    "df = pd.read_csv('sample_reviews.csv')\n",
    "df.head(10)"
   ]
  },
  {
   "cell_type": "markdown",
   "id": "fc5a7134",
   "metadata": {},
   "source": [
    "### Data Cleaning"
   ]
  },
  {
   "cell_type": "code",
   "execution_count": 4,
   "id": "e0a1a850-2a17-4171-8b21-fc32154c9849",
   "metadata": {},
   "outputs": [],
   "source": [
    "def clean_text(text):\n",
    "    text = re.sub(r\"http\\S+\", \"\", text)\n",
    "    text = re.sub(f\"[{re.escape(string.punctuation)}]\", \"\", text)\n",
    "    text = text.lower()\n",
    "    text = \" \".join([word for word in text.split() if word not in stop_words])\n",
    "    return text\n",
    "\n",
    "df['cleaned'] = df['review'].apply(clean_text)\n",
    "X = df['cleaned']\n",
    "y = df['sentiment']\n",
    "X_train, X_test, y_train, y_test = train_test_split(X, y, test_size=0.2, random_state=42)"
   ]
  },
  {
   "cell_type": "markdown",
   "id": "65c73ac4",
   "metadata": {},
   "source": [
    "### Nave Bayes"
   ]
  },
  {
   "cell_type": "code",
   "execution_count": 5,
   "id": "bc3c787f-8fc1-4c46-855b-8956e23f78ce",
   "metadata": {},
   "outputs": [
    {
     "name": "stdout",
     "output_type": "stream",
     "text": [
      "Naive Bayes Accuracy: 1.0\n"
     ]
    }
   ],
   "source": [
    "vectorizer = TfidfVectorizer(max_features=5000)\n",
    "X_train_vect = vectorizer.fit_transform(X_train)\n",
    "X_test_vect = vectorizer.transform(X_test)\n",
    "\n",
    "# Naive Bayes\n",
    "nb = MultinomialNB()\n",
    "nb.fit(X_train_vect, y_train)\n",
    "nb_preds = nb.predict(X_test_vect)\n",
    "print(\"Naive Bayes Accuracy:\", accuracy_score(y_test, nb_preds))\n",
    "\n"
   ]
  },
  {
   "cell_type": "code",
   "execution_count": 6,
   "id": "8694f609",
   "metadata": {},
   "outputs": [
    {
     "data": {
      "image/png": "[encoded data removed]",
      "text/plain": [
       "<Figure size 640x480 with 2 Axes>"
      ]
     },
     "metadata": {},
     "output_type": "display_data"
    },
    {
     "name": "stdout",
     "output_type": "stream",
     "text": [
      "Naive Bayes – Classification Report\n",
      "              precision    recall  f1-score   support\n",
      "\n",
      "           0       1.00      1.00      1.00         1\n",
      "           1       1.00      1.00      1.00         1\n",
      "\n",
      "    accuracy                           1.00         2\n",
      "   macro avg       1.00      1.00      1.00         2\n",
      "weighted avg       1.00      1.00      1.00         2\n",
      "\n"
     ]
    }
   ],
   "source": [
    "# Naive Bayes Confusion Matrix\n",
    "nb_cm = confusion_matrix(y_test, nb_preds)\n",
    "sns.heatmap(nb_cm, annot=True, fmt='d', cmap='Blues')\n",
    "plt.title(\"Naive Bayes – Confusion Matrix\")\n",
    "plt.xlabel(\"Predicted\")\n",
    "plt.ylabel(\"Actual\")\n",
    "plt.show()\n",
    "\n",
    "# Naive Bayes Classification Report\n",
    "print(\"Naive Bayes – Classification Report\")\n",
    "print(classification_report(y_test, nb_preds))"
   ]
  },
  {
   "cell_type": "markdown",
   "id": "5e88e492",
   "metadata": {},
   "source": [
    "### SVM (Support Vector Machine)"
   ]
  },
  {
   "cell_type": "code",
   "execution_count": 7,
   "id": "d32d0c05",
   "metadata": {},
   "outputs": [
    {
     "name": "stdout",
     "output_type": "stream",
     "text": [
      "SVM Accuracy: 0.5\n"
     ]
    }
   ],
   "source": [
    "# SVM\n",
    "svm = LinearSVC()\n",
    "svm.fit(X_train_vect, y_train)\n",
    "svm_preds = svm.predict(X_test_vect)\n",
    "print(\"SVM Accuracy:\", accuracy_score(y_test, svm_preds))"
   ]
  },
  {
   "cell_type": "code",
   "execution_count": 8,
   "id": "4ee40790",
   "metadata": {},
   "outputs": [
    {
     "data": {
      "image/png": "[encoded data removed]",
      "text/plain": [
       "<Figure size 640x480 with 2 Axes>"
      ]
     },
     "metadata": {},
     "output_type": "display_data"
    },
    {
     "name": "stdout",
     "output_type": "stream",
     "text": [
      "SVM – Classification Report\n",
      "              precision    recall  f1-score   support\n",
      "\n",
      "           0       0.00      0.00      0.00         1\n",
      "           1       0.50      1.00      0.67         1\n",
      "\n",
      "    accuracy                           0.50         2\n",
      "   macro avg       0.25      0.50      0.33         2\n",
      "weighted avg       0.25      0.50      0.33         2\n",
      "\n"
     ]
    },
    {
     "name": "stderr",
     "output_type": "stream",
     "text": [
      "d:\\Anjitha_Learning\\Higher Studies\\PGD\\Git repo\\ML-Project\\.venv\\Lib\\site-packages\\sklearn\\metrics\\_classification.py:1706: UndefinedMetricWarning: Precision is ill-defined and being set to 0.0 in labels with no predicted samples. Use `zero_division` parameter to control this behavior.\n",
      "  _warn_prf(average, modifier, f\"{metric.capitalize()} is\", result.shape[0])\n",
      "d:\\Anjitha_Learning\\Higher Studies\\PGD\\Git repo\\ML-Project\\.venv\\Lib\\site-packages\\sklearn\\metrics\\_classification.py:1706: UndefinedMetricWarning: Precision is ill-defined and being set to 0.0 in labels with no predicted samples. Use `zero_division` parameter to control this behavior.\n",
      "  _warn_prf(average, modifier, f\"{metric.capitalize()} is\", result.shape[0])\n",
      "d:\\Anjitha_Learning\\Higher Studies\\PGD\\Git repo\\ML-Project\\.venv\\Lib\\site-packages\\sklearn\\metrics\\_classification.py:1706: UndefinedMetricWarning: Precision is ill-defined and being set to 0.0 in labels with no predicted samples. Use `zero_division` parameter to control this behavior.\n",
      "  _warn_prf(average, modifier, f\"{metric.capitalize()} is\", result.shape[0])\n"
     ]
    }
   ],
   "source": [
    "# SVM Confusion Matrix\n",
    "svm_cm = confusion_matrix(y_test, svm_preds)\n",
    "sns.heatmap(svm_cm, annot=True, fmt='d', cmap='Greens')\n",
    "plt.title(\"SVM – Confusion Matrix\")\n",
    "plt.xlabel(\"Predicted\")\n",
    "plt.ylabel(\"Actual\")\n",
    "plt.show()\n",
    "\n",
    "# SVM Classification Report\n",
    "print(\"SVM – Classification Report\")\n",
    "print(classification_report(y_test, svm_preds))"
   ]
  },
  {
   "cell_type": "markdown",
   "id": "76c3f38c",
   "metadata": {},
   "source": [
    "### LSTM (Long Short-Term Memory)"
   ]
  },
  {
   "cell_type": "code",
   "execution_count": 9,
   "id": "200977bb-4bfa-4f0c-98b5-185fce14ffa2",
   "metadata": {},
   "outputs": [
    {
     "name": "stderr",
     "output_type": "stream",
     "text": [
      "d:\\Anjitha_Learning\\Higher Studies\\PGD\\Git repo\\ML-Project\\.venv\\Lib\\site-packages\\keras\\src\\layers\\core\\embedding.py:97: UserWarning: Argument `input_length` is deprecated. Just remove it.\n",
      "  warnings.warn(\n"
     ]
    },
    {
     "name": "stdout",
     "output_type": "stream",
     "text": [
      "Epoch 1/3\n",
      "\u001b[1m2/2\u001b[0m \u001b[32m━━━━━━━━━━━━━━━━━━━━\u001b[0m\u001b[37m\u001b[0m \u001b[1m2s\u001b[0m 376ms/step - accuracy: 0.2500 - loss: 0.7003 - val_accuracy: 0.5000 - val_loss: 0.6943\n",
      "Epoch 2/3\n",
      "\u001b[1m2/2\u001b[0m \u001b[32m━━━━━━━━━━━━━━━━━━━━\u001b[0m\u001b[37m\u001b[0m \u001b[1m0s\u001b[0m 101ms/step - accuracy: 0.5833 - loss: 0.6862 - val_accuracy: 0.5000 - val_loss: 0.6928\n",
      "Epoch 3/3\n",
      "\u001b[1m2/2\u001b[0m \u001b[32m━━━━━━━━━━━━━━━━━━━━\u001b[0m\u001b[37m\u001b[0m \u001b[1m0s\u001b[0m 93ms/step - accuracy: 0.9167 - loss: 0.6780 - val_accuracy: 0.5000 - val_loss: 0.6917\n"
     ]
    },
    {
     "data": {
      "text/plain": [
       "<keras.src.callbacks.history.History at 0x1f091070410>"
      ]
     },
     "execution_count": 9,
     "metadata": {},
     "output_type": "execute_result"
    }
   ],
   "source": [
    "tokenizer = Tokenizer(num_words=10000)\n",
    "tokenizer.fit_on_texts(X_train)\n",
    "X_train_seq = pad_sequences(tokenizer.texts_to_sequences(X_train), maxlen=100)\n",
    "X_test_seq = pad_sequences(tokenizer.texts_to_sequences(X_test), maxlen=100)\n",
    "\n",
    "model = Sequential()\n",
    "model.add(Embedding(input_dim=10000, output_dim=128, input_length=100))\n",
    "model.add(LSTM(64))\n",
    "model.add(Dense(1, activation='sigmoid'))\n",
    "\n",
    "model.compile(loss='binary_crossentropy', optimizer='adam', metrics=['accuracy'])\n",
    "model.fit(X_train_seq, y_train, validation_data=(X_test_seq, y_test), epochs=3, batch_size=4)"
   ]
  },
  {
   "cell_type": "code",
   "execution_count": 10,
   "id": "13b25bf8",
   "metadata": {},
   "outputs": [
    {
     "name": "stdout",
     "output_type": "stream",
     "text": [
      "\u001b[1m1/1\u001b[0m \u001b[32m━━━━━━━━━━━━━━━━━━━━\u001b[0m\u001b[37m\u001b[0m \u001b[1m0s\u001b[0m 188ms/step\n"
     ]
    },
    {
     "data": {
      "image/png": "[encoded data removed]",
      "text/plain": [
       "<Figure size 640x480 with 2 Axes>"
      ]
     },
     "metadata": {},
     "output_type": "display_data"
    },
    {
     "name": "stdout",
     "output_type": "stream",
     "text": [
      "LSTM – Classification Report\n",
      "              precision    recall  f1-score   support\n",
      "\n",
      "           0       0.00      0.00      0.00         1\n",
      "           1       0.50      1.00      0.67         1\n",
      "\n",
      "    accuracy                           0.50         2\n",
      "   macro avg       0.25      0.50      0.33         2\n",
      "weighted avg       0.25      0.50      0.33         2\n",
      "\n"
     ]
    },
    {
     "name": "stderr",
     "output_type": "stream",
     "text": [
      "d:\\Anjitha_Learning\\Higher Studies\\PGD\\Git repo\\ML-Project\\.venv\\Lib\\site-packages\\sklearn\\metrics\\_classification.py:1706: UndefinedMetricWarning: Precision is ill-defined and being set to 0.0 in labels with no predicted samples. Use `zero_division` parameter to control this behavior.\n",
      "  _warn_prf(average, modifier, f\"{metric.capitalize()} is\", result.shape[0])\n",
      "d:\\Anjitha_Learning\\Higher Studies\\PGD\\Git repo\\ML-Project\\.venv\\Lib\\site-packages\\sklearn\\metrics\\_classification.py:1706: UndefinedMetricWarning: Precision is ill-defined and being set to 0.0 in labels with no predicted samples. Use `zero_division` parameter to control this behavior.\n",
      "  _warn_prf(average, modifier, f\"{metric.capitalize()} is\", result.shape[0])\n",
      "d:\\Anjitha_Learning\\Higher Studies\\PGD\\Git repo\\ML-Project\\.venv\\Lib\\site-packages\\sklearn\\metrics\\_classification.py:1706: UndefinedMetricWarning: Precision is ill-defined and being set to 0.0 in labels with no predicted samples. Use `zero_division` parameter to control this behavior.\n",
      "  _warn_prf(average, modifier, f\"{metric.capitalize()} is\", result.shape[0])\n"
     ]
    }
   ],
   "source": [
    "# Predict LSTM outputs\n",
    "lstm_preds = model.predict(X_test_seq)\n",
    "lstm_preds_binary = (lstm_preds > 0.5).astype(\"int32\")\n",
    "\n",
    "# LSTM Confusion Matrix\n",
    "lstm_cm = confusion_matrix(y_test, lstm_preds_binary)\n",
    "sns.heatmap(lstm_cm, annot=True, fmt='d', cmap='Purples')\n",
    "plt.title(\"LSTM – Confusion Matrix\")\n",
    "plt.xlabel(\"Predicted\")\n",
    "plt.ylabel(\"Actual\")\n",
    "plt.show()\n",
    "\n",
    "# LSTM Classification Report\n",
    "print(\"LSTM – Classification Report\")\n",
    "print(classification_report(y_test, lstm_preds_binary))\n"
   ]
  },
  {
   "cell_type": "markdown",
   "id": "1bef1517",
   "metadata": {},
   "source": [
    "### BERT (Bideirectional Encoder Representations from Transformers)"
   ]
  },
  {
   "cell_type": "code",
   "execution_count": null,
   "id": "66e657d2-b063-4f73-a10b-8b74a2926abe",
   "metadata": {},
   "outputs": [
    {
     "name": "stderr",
     "output_type": "stream",
     "text": [
      "TensorFlow and JAX classes are deprecated and will be removed in Transformers v5. We recommend migrating to PyTorch classes or pinning your version of Transformers.\n"
     ]
    },
    {
     "name": "stdout",
     "output_type": "stream",
     "text": [
      "WARNING:tensorflow:From d:\\Anjitha_Learning\\Higher Studies\\PGD\\Git repo\\ML-Project\\.venv\\Lib\\site-packages\\tf_keras\\src\\backend.py:873: The name tf.get_default_graph is deprecated. Please use tf.compat.v1.get_default_graph instead.\n",
      "\n"
     ]
    },
    {
     "name": "stderr",
     "output_type": "stream",
     "text": [
      "TensorFlow and JAX classes are deprecated and will be removed in Transformers v5. We recommend migrating to PyTorch classes or pinning your version of Transformers.\n",
      "All PyTorch model weights were used when initializing TFBertForSequenceClassification.\n",
      "\n",
      "Some weights or buffers of the TF 2.0 model TFBertForSequenceClassification were not initialized from the PyTorch model and are newly initialized: ['classifier.weight', 'classifier.bias']\n",
      "You should probably TRAIN this model on a down-stream task to be able to use it for predictions and inference.\n"
     ]
    },
    {
     "name": "stdout",
     "output_type": "stream",
     "text": [
      "Epoch 1/2\n",
      "WARNING:tensorflow:From d:\\Anjitha_Learning\\Higher Studies\\PGD\\Git repo\\ML-Project\\.venv\\Lib\\site-packages\\tf_keras\\src\\utils\\tf_utils.py:492: The name tf.ragged.RaggedTensorValue is deprecated. Please use tf.compat.v1.ragged.RaggedTensorValue instead.\n",
      "\n",
      "WARNING:tensorflow:From d:\\Anjitha_Learning\\Higher Studies\\PGD\\Git repo\\ML-Project\\.venv\\Lib\\site-packages\\tf_keras\\src\\engine\\base_layer_utils.py:384: The name tf.executing_eagerly_outside_functions is deprecated. Please use tf.compat.v1.executing_eagerly_outside_functions instead.\n",
      "\n",
      "2/2 [==============================] - 23s 3s/step - loss: 0.7253 - accuracy: 0.3750 - val_loss: 0.6674 - val_accuracy: 0.5000\n",
      "Epoch 2/2\n",
      "2/2 [==============================] - 1s 556ms/step - loss: 0.6725 - accuracy: 0.6250 - val_loss: 0.6648 - val_accuracy: 0.5000\n"
     ]
    },
    {
     "data": {
      "text/plain": [
       "<tf_keras.src.callbacks.History at 0x1f0dea5b810>"
      ]
     },
     "execution_count": 11,
     "metadata": {},
     "output_type": "execute_result"
    }
   ],
   "source": [
    "from transformers import BertTokenizer, TFBertForSequenceClassification, create_optimizer\n",
    "import tensorflow as tf\n",
    "\n",
    "# Tokenization\n",
    "bert_tokenizer = BertTokenizer.from_pretrained('bert-base-uncased')\n",
    "train_encodings = bert_tokenizer(list(X_train), truncation=True, padding=True, max_length=128, return_tensors=\"tf\")\n",
    "test_encodings = bert_tokenizer(list(X_test), truncation=True, padding=True, max_length=128, return_tensors=\"tf\")\n",
    "\n",
    "# Load BERT model\n",
    "bert_model = TFBertForSequenceClassification.from_pretrained('bert-base-uncased')\n",
    "\n",
    "# Define training steps and optimizer using transformers' utility\n",
    "batch_size = 4\n",
    "epochs = 2\n",
    "steps_per_epoch = len(X_train) // batch_size\n",
    "num_train_steps = steps_per_epoch * epochs\n",
    "num_warmup_steps = int(0.1 * num_train_steps)\n",
    "\n",
    "optimizer, lr_schedule = create_optimizer(\n",
    "    init_lr=2e-5,\n",
    "    num_warmup_steps=num_warmup_steps,\n",
    "    num_train_steps=num_train_steps\n",
    ")\n",
    "\n",
    "# Compile the model\n",
    "bert_model.compile(\n",
    "    optimizer=optimizer,\n",
    "    loss=tf.keras.losses.SparseCategoricalCrossentropy(from_logits=True),\n",
    "    metrics=['accuracy']\n",
    ")\n",
    "\n",
    "# Train the model\n",
    "bert_model.fit(\n",
    "    x=train_encodings['input_ids'],\n",
    "    y=y_train,\n",
    "    validation_data=(test_encodings['input_ids'], y_test),\n",
    "    epochs=epochs,\n",
    "    batch_size=batch_size\n",
    ")"
   ]
  },
  {
   "cell_type": "code",
   "execution_count": 19,
   "id": "e63c42be-f262-4607-abe2-d671f1effc1d",
   "metadata": {},
   "outputs": [
    {
     "name": "stdout",
     "output_type": "stream",
     "text": [
      "1/1 [==============================] - 0s 65ms/step\n"
     ]
    },
    {
     "data": {
      "text/html": [
       "<div>\n",
       "<style scoped>\n",
       "    .dataframe tbody tr th:only-of-type {\n",
       "        vertical-align: middle;\n",
       "    }\n",
       "\n",
       "    .dataframe tbody tr th {\n",
       "        vertical-align: top;\n",
       "    }\n",
       "\n",
       "    .dataframe thead th {\n",
       "        text-align: right;\n",
       "    }\n",
       "</style>\n",
       "<table border=\"1\" class=\"dataframe\">\n",
       "  <thead>\n",
       "    <tr style=\"text-align: right;\">\n",
       "      <th></th>\n",
       "      <th>review</th>\n",
       "      <th>true_sentiment</th>\n",
       "      <th>predicted_sentiment</th>\n",
       "    </tr>\n",
       "  </thead>\n",
       "  <tbody>\n",
       "    <tr>\n",
       "      <th>0</th>\n",
       "      <td>happy packaging speed delivery</td>\n",
       "      <td>1</td>\n",
       "      <td>1</td>\n",
       "    </tr>\n",
       "    <tr>\n",
       "      <th>1</th>\n",
       "      <td>disappointed purchase</td>\n",
       "      <td>0</td>\n",
       "      <td>1</td>\n",
       "    </tr>\n",
       "  </tbody>\n",
       "</table>\n",
       "</div>"
      ],
      "text/plain": [
       "                           review  true_sentiment  predicted_sentiment\n",
       "0  happy packaging speed delivery               1                    1\n",
       "1           disappointed purchase               0                    1"
      ]
     },
     "execution_count": 19,
     "metadata": {},
     "output_type": "execute_result"
    }
   ],
   "source": [
    "# Saving BERT Predictions to CSV for Review and Analysis\n",
    "\n",
    "import numpy as np\n",
    "\n",
    "bert_logits = bert_model.predict(test_encodings['input_ids']).logits\n",
    "bert_preds_binary = np.argmax(bert_logits, axis=1)\n",
    "\n",
    "df_test = pd.DataFrame({\n",
    "    'review': list(X_test),\n",
    "    'true_sentiment': y_test.values,\n",
    "    'predicted_sentiment': bert_preds_binary\n",
    "})\n",
    "\n",
    "df_test.to_csv(\"bert_predictions.csv\", index=False)\n",
    "df_test.head()\n"
   ]
  },
  {
   "cell_type": "code",
   "execution_count": 13,
   "id": "789db10a-0d50-4ad1-9241-dfd395e7395a",
   "metadata": {},
   "outputs": [
    {
     "name": "stderr",
     "output_type": "stream",
     "text": [
      "Some weights of the PyTorch model were not used when initializing the TF 2.0 model TFBertModel: ['cls.predictions.transform.LayerNorm.weight', 'cls.predictions.transform.dense.bias', 'cls.seq_relationship.weight', 'cls.predictions.transform.dense.weight', 'cls.predictions.transform.LayerNorm.bias', 'cls.seq_relationship.bias', 'cls.predictions.bias']\n",
      "- This IS expected if you are initializing TFBertModel from a PyTorch model trained on another task or with another architecture (e.g. initializing a TFBertForSequenceClassification model from a BertForPreTraining model).\n",
      "- This IS NOT expected if you are initializing TFBertModel from a PyTorch model that you expect to be exactly identical (e.g. initializing a TFBertForSequenceClassification model from a BertForSequenceClassification model).\n",
      "All the weights of TFBertModel were initialized from the PyTorch model.\n",
      "If your task is similar to the task the model of the checkpoint was trained on, you can already use TFBertModel for predictions without further training.\n"
     ]
    },
    {
     "data": {
      "image/png": "[encoded data removed]",
      "text/plain": [
       "<Figure size 800x600 with 2 Axes>"
      ]
     },
     "metadata": {},
     "output_type": "display_data"
    }
   ],
   "source": [
    "# BERT Attention Heatmap to Understand token interaction\n",
    "\n",
    "# Load base BERT model to access attention\n",
    "bert_base = TFBertModel.from_pretrained(\"bert-base-uncased\", output_attentions=True)\n",
    "\n",
    "# Pick a sentence to visualize\n",
    "sentence = \"I absolutely loved the product and packaging!\"\n",
    "tokens = bert_tokenizer.encode(sentence, return_tensors=\"tf\")\n",
    "outputs = bert_base(tokens)\n",
    "\n",
    "# Get attention weights from last layer\n",
    "attentions = outputs.attentions  # tuple of (layer, batch, head, seq_len, seq_len)\n",
    "last_layer_attention = attentions[-1][0]  # shape: (num_heads, seq_len, seq_len)\n",
    "\n",
    "# Average over all heads\n",
    "avg_attention = tf.reduce_mean(last_layer_attention, axis=0).numpy()\n",
    "\n",
    "# Decode tokens for labels\n",
    "decoded_tokens = bert_tokenizer.convert_ids_to_tokens(tokens[0])\n",
    "\n",
    "# Plot heatmap\n",
    "plt.figure(figsize=(8, 6))\n",
    "sns.heatmap(avg_attention, xticklabels=decoded_tokens, yticklabels=decoded_tokens, cmap='viridis')\n",
    "plt.title(\"BERT Attention Heatmap (Last Layer – Averaged Over Heads)\")\n",
    "plt.xlabel(\"Key\")\n",
    "plt.ylabel(\"Query\")\n",
    "plt.show()\n"
   ]
  },
  {
   "cell_type": "code",
   "execution_count": 14,
   "id": "d474ad08-d0d7-49c9-93d5-9897b201f1ea",
   "metadata": {},
   "outputs": [
    {
     "name": "stdout",
     "output_type": "stream",
     "text": [
      "1/1 [==============================] - 0s 52ms/step\n"
     ]
    },
    {
     "data": {
      "image/png": "[encoded data removed]",
      "text/plain": [
       "<Figure size 640x480 with 2 Axes>"
      ]
     },
     "metadata": {},
     "output_type": "display_data"
    },
    {
     "name": "stdout",
     "output_type": "stream",
     "text": [
      "BERT – Classification Report\n",
      "              precision    recall  f1-score   support\n",
      "\n",
      "           0       0.00      0.00      0.00         1\n",
      "           1       0.50      1.00      0.67         1\n",
      "\n",
      "    accuracy                           0.50         2\n",
      "   macro avg       0.25      0.50      0.33         2\n",
      "weighted avg       0.25      0.50      0.33         2\n",
      "\n"
     ]
    },
    {
     "name": "stderr",
     "output_type": "stream",
     "text": [
      "d:\\Anjitha_Learning\\Higher Studies\\PGD\\Git repo\\ML-Project\\.venv\\Lib\\site-packages\\sklearn\\metrics\\_classification.py:1706: UndefinedMetricWarning: Precision is ill-defined and being set to 0.0 in labels with no predicted samples. Use `zero_division` parameter to control this behavior.\n",
      "  _warn_prf(average, modifier, f\"{metric.capitalize()} is\", result.shape[0])\n",
      "d:\\Anjitha_Learning\\Higher Studies\\PGD\\Git repo\\ML-Project\\.venv\\Lib\\site-packages\\sklearn\\metrics\\_classification.py:1706: UndefinedMetricWarning: Precision is ill-defined and being set to 0.0 in labels with no predicted samples. Use `zero_division` parameter to control this behavior.\n",
      "  _warn_prf(average, modifier, f\"{metric.capitalize()} is\", result.shape[0])\n",
      "d:\\Anjitha_Learning\\Higher Studies\\PGD\\Git repo\\ML-Project\\.venv\\Lib\\site-packages\\sklearn\\metrics\\_classification.py:1706: UndefinedMetricWarning: Precision is ill-defined and being set to 0.0 in labels with no predicted samples. Use `zero_division` parameter to control this behavior.\n",
      "  _warn_prf(average, modifier, f\"{metric.capitalize()} is\", result.shape[0])\n"
     ]
    }
   ],
   "source": [
    "# Predict with BERT\n",
    "bert_preds = bert_model.predict(test_encodings['input_ids']).logits\n",
    "bert_preds_binary = np.argmax(bert_preds, axis=1)\n",
    "\n",
    "# BERT Confusion Matrix\n",
    "bert_cm = confusion_matrix(y_test, bert_preds_binary)\n",
    "sns.heatmap(bert_cm, annot=True, fmt='d', cmap='Oranges')\n",
    "plt.title(\"BERT – Confusion Matrix\")\n",
    "plt.xlabel(\"Predicted\")\n",
    "plt.ylabel(\"Actual\")\n",
    "plt.show()\n",
    "\n",
    "# BERT Classification Report\n",
    "print(\"BERT – Classification Report\")\n",
    "print(classification_report(y_test, bert_preds_binary))\n"
   ]
  },
  {
   "cell_type": "markdown",
   "id": "bf977409",
   "metadata": {},
   "source": [
    "### Comparison: Naive Bayes vs. SVM vs. LSTM vs. BERT"
   ]
  },
  {
   "cell_type": "code",
   "execution_count": 20,
   "id": "a0c5554e-3b69-46af-be21-d321fb8af1fd",
   "metadata": {},
   "outputs": [
    {
     "name": "stderr",
     "output_type": "stream",
     "text": [
      "C:\\Users\\AnjithaRAVIKUMAR\\AppData\\Local\\Temp\\ipykernel_32524\\1148122572.py:12: FutureWarning: \n",
      "\n",
      "Passing `palette` without assigning `hue` is deprecated and will be removed in v0.14.0. Assign the `x` variable to `hue` and set `legend=False` for the same effect.\n",
      "\n",
      "  sns.barplot(x=models, y=accuracies, palette='coolwarm')\n"
     ]
    },
    {
     "data": {
      "image/png": "[encoded data removed]",
      "text/plain": [
       "<Figure size 800x500 with 1 Axes>"
      ]
     },
     "metadata": {},
     "output_type": "display_data"
    }
   ],
   "source": [
    "# Accuracy comparison\n",
    "\n",
    "nb_acc = accuracy_score(y_test, nb_preds)\n",
    "svm_acc = accuracy_score(y_test, svm_preds)\n",
    "lstm_acc = accuracy_score(y_test, lstm_preds_binary)\n",
    "bert_acc = accuracy_score(y_test, bert_preds_binary)\n",
    "\n",
    "models = ['Naive Bayes', 'SVM', 'LSTM', 'BERT']\n",
    "accuracies = [nb_acc, svm_acc, lstm_acc, bert_acc]\n",
    "\n",
    "plt.figure(figsize=(8, 5))\n",
    "sns.barplot(x=models, y=accuracies, palette='coolwarm')\n",
    "plt.title(\"Model Accuracy Comparison\")\n",
    "plt.ylabel(\"Accuracy\")\n",
    "plt.ylim(0, 1)\n",
    "plt.show()\n"
   ]
  },
  {
   "cell_type": "code",
   "execution_count": 16,
   "id": "22931706-376b-4b6d-8618-41769c99b039",
   "metadata": {},
   "outputs": [
    {
     "data": {
      "image/png": "[encoded data removed]",
      "text/plain": [
       "<Figure size 1000x500 with 1 Axes>"
      ]
     },
     "metadata": {},
     "output_type": "display_data"
    }
   ],
   "source": [
    "# Model Performance Comparison\n",
    "\n",
    "from sklearn.metrics import f1_score\n",
    "\n",
    "# F1 Scores\n",
    "nb_f1 = f1_score(y_test, nb_preds)\n",
    "svm_f1 = f1_score(y_test, svm_preds)\n",
    "lstm_f1 = f1_score(y_test, lstm_preds_binary)\n",
    "bert_f1 = f1_score(y_test, bert_preds_binary)\n",
    "\n",
    "# Accuracy\n",
    "model_names = ['Naive Bayes', 'SVM', 'LSTM', 'BERT']\n",
    "accuracy_scores = [nb_acc, svm_acc, lstm_acc, accuracy_score(y_test, bert_preds_binary)]\n",
    "f1_scores = [nb_f1, svm_f1, lstm_f1, bert_f1]\n",
    "\n",
    "x = np.arange(len(model_names))\n",
    "width = 0.35\n",
    "\n",
    "plt.figure(figsize=(10, 5))\n",
    "plt.bar(x - width/2, accuracy_scores, width, label='Accuracy', color='skyblue')\n",
    "plt.bar(x + width/2, f1_scores, width, label='F1 Score', color='salmon')\n",
    "plt.xticks(x, model_names)\n",
    "plt.ylim(0, 1.1)\n",
    "plt.title(\"Model Performance Comparison\")\n",
    "plt.ylabel(\"Score\")\n",
    "plt.legend()\n",
    "plt.grid(True, axis='y', linestyle='--', alpha=0.6)\n",
    "plt.show()\n"
   ]
  }
 ],
 "metadata": {
  "kernelspec": {
   "display_name": ".venv",
   "language": "python",
   "name": "python3"
  },
  "language_info": {
   "codemirror_mode": {
    "name": "ipython",
    "version": 3
   },
   "file_extension": ".py",
   "mimetype": "text/x-python",
   "name": "python",
   "nbconvert_exporter": "python",
   "pygments_lexer": "ipython3",
   "version": "3.11.9"
  }
 },
 "nbformat": 4,
 "nbformat_minor": 5
}
